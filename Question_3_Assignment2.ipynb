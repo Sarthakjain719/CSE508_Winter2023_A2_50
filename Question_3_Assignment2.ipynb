{
  "nbformat": 4,
  "nbformat_minor": 0,
  "metadata": {
    "colab": {
      "provenance": []
    },
    "kernelspec": {
      "name": "python3",
      "display_name": "Python 3"
    },
    "language_info": {
      "name": "python"
    }
  },
  "cells": [
    {
      "cell_type": "code",
      "execution_count": 2,
      "metadata": {
        "id": "ArHGFOw1HF0z"
      },
      "outputs": [],
      "source": [
        "import pandas as pd\n",
        "import numpy as np\n",
        "import warnings\n",
        "import matplotlib.pyplot as plt\n",
        "warnings.filterwarnings(\"ignore\")\n",
        "import math"
      ]
    },
    {
      "cell_type": "code",
      "source": [
        "file = pd.read_csv(\"/content/drive/MyDrive/IR-assignment-2-data (2).txt\", sep=' ', header=None)\n",
        "#print(file)\n",
        "file.drop(file.columns[[138]], axis = 1, inplace = True)\n",
        "file = file[file[1] == 'qid:4']\n",
        "#print(file)\n",
        "\n"
      ],
      "metadata": {
        "id": "GQH0uKzWHccl"
      },
      "execution_count": 3,
      "outputs": []
    },
    {
      "cell_type": "code",
      "source": [
        "#sort qid:4 in descending order\n",
        "desc_file = file.sort_values(by=[0], ascending=False, ignore_index=True)"
      ],
      "metadata": {
        "id": "uhd9UHdNOXgJ"
      },
      "execution_count": 4,
      "outputs": []
    },
    {
      "cell_type": "code",
      "source": [
        "#printing first 5 entries\n",
        "desc_file.head()"
      ],
      "metadata": {
        "colab": {
          "base_uri": "https://localhost:8080/",
          "height": 299
        },
        "id": "c1wiJlNEaQKg",
        "outputId": "969f495b-91fe-4d14-aca3-b63adaa453a2"
      },
      "execution_count": 5,
      "outputs": [
        {
          "output_type": "execute_result",
          "data": {
            "text/plain": [
              "   0      1    2    3    4    5    6           7           8           9    \\\n",
              "0    3  qid:4  1:3  2:0  3:2  4:1  5:3         6:1         7:0  8:0.666667   \n",
              "1    2  qid:4  1:2  2:0  3:1  4:0  5:2  6:0.666667         7:0  8:0.333333   \n",
              "2    2  qid:4  1:3  2:2  3:2  4:0  5:3         6:1  7:0.666667  8:0.666667   \n",
              "3    2  qid:4  1:3  2:0  3:2  4:0  5:3         6:1         7:0  8:0.666667   \n",
              "4    2  qid:4  1:3  2:0  3:3  4:3  5:3         6:1         7:0         8:1   \n",
              "\n",
              "   ...     128      129    130        131        132      133      134    135  \\\n",
              "0  ...  127:32  128:349  129:8    130:123    131:281   132:22    133:6  134:0   \n",
              "1  ...  127:19    128:0  129:0   130:2417    131:721   132:14  133:113  134:0   \n",
              "2  ...  127:33    128:8  129:3   130:1888   131:9338    132:3   133:11  134:0   \n",
              "3  ...  127:17    128:0  129:2  130:12028  131:11379   132:26   133:24  134:0   \n",
              "4  ...  127:67   128:27  129:0    130:814  131:13555  132:108  133:113  134:0   \n",
              "\n",
              "      136                   137  \n",
              "0   135:0                 136:0  \n",
              "1  135:13              136:47.9  \n",
              "2   135:0                 136:0  \n",
              "3  135:77  136:23.9595223404047  \n",
              "4   135:0                 136:0  \n",
              "\n",
              "[5 rows x 138 columns]"
            ],
            "text/html": [
              "\n",
              "  <div id=\"df-4fc4a3ff-e77d-4933-a988-965900aed6e8\">\n",
              "    <div class=\"colab-df-container\">\n",
              "      <div>\n",
              "<style scoped>\n",
              "    .dataframe tbody tr th:only-of-type {\n",
              "        vertical-align: middle;\n",
              "    }\n",
              "\n",
              "    .dataframe tbody tr th {\n",
              "        vertical-align: top;\n",
              "    }\n",
              "\n",
              "    .dataframe thead th {\n",
              "        text-align: right;\n",
              "    }\n",
              "</style>\n",
              "<table border=\"1\" class=\"dataframe\">\n",
              "  <thead>\n",
              "    <tr style=\"text-align: right;\">\n",
              "      <th></th>\n",
              "      <th>0</th>\n",
              "      <th>1</th>\n",
              "      <th>2</th>\n",
              "      <th>3</th>\n",
              "      <th>4</th>\n",
              "      <th>5</th>\n",
              "      <th>6</th>\n",
              "      <th>7</th>\n",
              "      <th>8</th>\n",
              "      <th>9</th>\n",
              "      <th>...</th>\n",
              "      <th>128</th>\n",
              "      <th>129</th>\n",
              "      <th>130</th>\n",
              "      <th>131</th>\n",
              "      <th>132</th>\n",
              "      <th>133</th>\n",
              "      <th>134</th>\n",
              "      <th>135</th>\n",
              "      <th>136</th>\n",
              "      <th>137</th>\n",
              "    </tr>\n",
              "  </thead>\n",
              "  <tbody>\n",
              "    <tr>\n",
              "      <th>0</th>\n",
              "      <td>3</td>\n",
              "      <td>qid:4</td>\n",
              "      <td>1:3</td>\n",
              "      <td>2:0</td>\n",
              "      <td>3:2</td>\n",
              "      <td>4:1</td>\n",
              "      <td>5:3</td>\n",
              "      <td>6:1</td>\n",
              "      <td>7:0</td>\n",
              "      <td>8:0.666667</td>\n",
              "      <td>...</td>\n",
              "      <td>127:32</td>\n",
              "      <td>128:349</td>\n",
              "      <td>129:8</td>\n",
              "      <td>130:123</td>\n",
              "      <td>131:281</td>\n",
              "      <td>132:22</td>\n",
              "      <td>133:6</td>\n",
              "      <td>134:0</td>\n",
              "      <td>135:0</td>\n",
              "      <td>136:0</td>\n",
              "    </tr>\n",
              "    <tr>\n",
              "      <th>1</th>\n",
              "      <td>2</td>\n",
              "      <td>qid:4</td>\n",
              "      <td>1:2</td>\n",
              "      <td>2:0</td>\n",
              "      <td>3:1</td>\n",
              "      <td>4:0</td>\n",
              "      <td>5:2</td>\n",
              "      <td>6:0.666667</td>\n",
              "      <td>7:0</td>\n",
              "      <td>8:0.333333</td>\n",
              "      <td>...</td>\n",
              "      <td>127:19</td>\n",
              "      <td>128:0</td>\n",
              "      <td>129:0</td>\n",
              "      <td>130:2417</td>\n",
              "      <td>131:721</td>\n",
              "      <td>132:14</td>\n",
              "      <td>133:113</td>\n",
              "      <td>134:0</td>\n",
              "      <td>135:13</td>\n",
              "      <td>136:47.9</td>\n",
              "    </tr>\n",
              "    <tr>\n",
              "      <th>2</th>\n",
              "      <td>2</td>\n",
              "      <td>qid:4</td>\n",
              "      <td>1:3</td>\n",
              "      <td>2:2</td>\n",
              "      <td>3:2</td>\n",
              "      <td>4:0</td>\n",
              "      <td>5:3</td>\n",
              "      <td>6:1</td>\n",
              "      <td>7:0.666667</td>\n",
              "      <td>8:0.666667</td>\n",
              "      <td>...</td>\n",
              "      <td>127:33</td>\n",
              "      <td>128:8</td>\n",
              "      <td>129:3</td>\n",
              "      <td>130:1888</td>\n",
              "      <td>131:9338</td>\n",
              "      <td>132:3</td>\n",
              "      <td>133:11</td>\n",
              "      <td>134:0</td>\n",
              "      <td>135:0</td>\n",
              "      <td>136:0</td>\n",
              "    </tr>\n",
              "    <tr>\n",
              "      <th>3</th>\n",
              "      <td>2</td>\n",
              "      <td>qid:4</td>\n",
              "      <td>1:3</td>\n",
              "      <td>2:0</td>\n",
              "      <td>3:2</td>\n",
              "      <td>4:0</td>\n",
              "      <td>5:3</td>\n",
              "      <td>6:1</td>\n",
              "      <td>7:0</td>\n",
              "      <td>8:0.666667</td>\n",
              "      <td>...</td>\n",
              "      <td>127:17</td>\n",
              "      <td>128:0</td>\n",
              "      <td>129:2</td>\n",
              "      <td>130:12028</td>\n",
              "      <td>131:11379</td>\n",
              "      <td>132:26</td>\n",
              "      <td>133:24</td>\n",
              "      <td>134:0</td>\n",
              "      <td>135:77</td>\n",
              "      <td>136:23.9595223404047</td>\n",
              "    </tr>\n",
              "    <tr>\n",
              "      <th>4</th>\n",
              "      <td>2</td>\n",
              "      <td>qid:4</td>\n",
              "      <td>1:3</td>\n",
              "      <td>2:0</td>\n",
              "      <td>3:3</td>\n",
              "      <td>4:3</td>\n",
              "      <td>5:3</td>\n",
              "      <td>6:1</td>\n",
              "      <td>7:0</td>\n",
              "      <td>8:1</td>\n",
              "      <td>...</td>\n",
              "      <td>127:67</td>\n",
              "      <td>128:27</td>\n",
              "      <td>129:0</td>\n",
              "      <td>130:814</td>\n",
              "      <td>131:13555</td>\n",
              "      <td>132:108</td>\n",
              "      <td>133:113</td>\n",
              "      <td>134:0</td>\n",
              "      <td>135:0</td>\n",
              "      <td>136:0</td>\n",
              "    </tr>\n",
              "  </tbody>\n",
              "</table>\n",
              "<p>5 rows × 138 columns</p>\n",
              "</div>\n",
              "      <button class=\"colab-df-convert\" onclick=\"convertToInteractive('df-4fc4a3ff-e77d-4933-a988-965900aed6e8')\"\n",
              "              title=\"Convert this dataframe to an interactive table.\"\n",
              "              style=\"display:none;\">\n",
              "        \n",
              "  <svg xmlns=\"http://www.w3.org/2000/svg\" height=\"24px\"viewBox=\"0 0 24 24\"\n",
              "       width=\"24px\">\n",
              "    <path d=\"M0 0h24v24H0V0z\" fill=\"none\"/>\n",
              "    <path d=\"M18.56 5.44l.94 2.06.94-2.06 2.06-.94-2.06-.94-.94-2.06-.94 2.06-2.06.94zm-11 1L8.5 8.5l.94-2.06 2.06-.94-2.06-.94L8.5 2.5l-.94 2.06-2.06.94zm10 10l.94 2.06.94-2.06 2.06-.94-2.06-.94-.94-2.06-.94 2.06-2.06.94z\"/><path d=\"M17.41 7.96l-1.37-1.37c-.4-.4-.92-.59-1.43-.59-.52 0-1.04.2-1.43.59L10.3 9.45l-7.72 7.72c-.78.78-.78 2.05 0 2.83L4 21.41c.39.39.9.59 1.41.59.51 0 1.02-.2 1.41-.59l7.78-7.78 2.81-2.81c.8-.78.8-2.07 0-2.86zM5.41 20L4 18.59l7.72-7.72 1.47 1.35L5.41 20z\"/>\n",
              "  </svg>\n",
              "      </button>\n",
              "      \n",
              "  <style>\n",
              "    .colab-df-container {\n",
              "      display:flex;\n",
              "      flex-wrap:wrap;\n",
              "      gap: 12px;\n",
              "    }\n",
              "\n",
              "    .colab-df-convert {\n",
              "      background-color: #E8F0FE;\n",
              "      border: none;\n",
              "      border-radius: 50%;\n",
              "      cursor: pointer;\n",
              "      display: none;\n",
              "      fill: #1967D2;\n",
              "      height: 32px;\n",
              "      padding: 0 0 0 0;\n",
              "      width: 32px;\n",
              "    }\n",
              "\n",
              "    .colab-df-convert:hover {\n",
              "      background-color: #E2EBFA;\n",
              "      box-shadow: 0px 1px 2px rgba(60, 64, 67, 0.3), 0px 1px 3px 1px rgba(60, 64, 67, 0.15);\n",
              "      fill: #174EA6;\n",
              "    }\n",
              "\n",
              "    [theme=dark] .colab-df-convert {\n",
              "      background-color: #3B4455;\n",
              "      fill: #D2E3FC;\n",
              "    }\n",
              "\n",
              "    [theme=dark] .colab-df-convert:hover {\n",
              "      background-color: #434B5C;\n",
              "      box-shadow: 0px 1px 3px 1px rgba(0, 0, 0, 0.15);\n",
              "      filter: drop-shadow(0px 1px 2px rgba(0, 0, 0, 0.3));\n",
              "      fill: #FFFFFF;\n",
              "    }\n",
              "  </style>\n",
              "\n",
              "      <script>\n",
              "        const buttonEl =\n",
              "          document.querySelector('#df-4fc4a3ff-e77d-4933-a988-965900aed6e8 button.colab-df-convert');\n",
              "        buttonEl.style.display =\n",
              "          google.colab.kernel.accessAllowed ? 'block' : 'none';\n",
              "\n",
              "        async function convertToInteractive(key) {\n",
              "          const element = document.querySelector('#df-4fc4a3ff-e77d-4933-a988-965900aed6e8');\n",
              "          const dataTable =\n",
              "            await google.colab.kernel.invokeFunction('convertToInteractive',\n",
              "                                                     [key], {});\n",
              "          if (!dataTable) return;\n",
              "\n",
              "          const docLinkHtml = 'Like what you see? Visit the ' +\n",
              "            '<a target=\"_blank\" href=https://colab.research.google.com/notebooks/data_table.ipynb>data table notebook</a>'\n",
              "            + ' to learn more about interactive tables.';\n",
              "          element.innerHTML = '';\n",
              "          dataTable['output_type'] = 'display_data';\n",
              "          await google.colab.output.renderOutput(dataTable, element);\n",
              "          const docLink = document.createElement('div');\n",
              "          docLink.innerHTML = docLinkHtml;\n",
              "          element.appendChild(docLink);\n",
              "        }\n",
              "      </script>\n",
              "    </div>\n",
              "  </div>\n",
              "  "
            ]
          },
          "metadata": {},
          "execution_count": 5
        }
      ]
    },
    {
      "cell_type": "code",
      "source": [
        "#creating the file\n",
        "rr={}\n",
        "for iterator in range(0,len(file.index)):\n",
        "    qid=file.at[iterator,1]\n",
        "    if (\"qid:4\"==qid):\n",
        "        rr[iterator]=file.at[iterator,0]"
      ],
      "metadata": {
        "id": "hj2aWeBQI35d"
      },
      "execution_count": 19,
      "outputs": []
    },
    {
      "cell_type": "code",
      "source": [
        "def urlquery(aa, rr):\n",
        "    df=aa.drop((aa.index[len(rr):]))\n",
        "    \n",
        "    np.savetxt('new.txt',df.values,delimiter=\" \",fmt='%s')\n",
        "\n",
        "urlquery(file,rr)\n",
        "tid=rr.items()\n",
        "tid=list(tid)\n",
        "rr=sorted(rr.items(),key=lambda pairs:(pairs[1],pairs[0]),reverse=True)"
      ],
      "metadata": {
        "id": "6U8ECalaJZF9"
      },
      "execution_count": 21,
      "outputs": []
    },
    {
      "cell_type": "code",
      "source": [
        "print(rr)"
      ],
      "metadata": {
        "colab": {
          "base_uri": "https://localhost:8080/"
        },
        "id": "0wU05-lXLh6K",
        "outputId": "39a8b62a-4db4-462d-f8e4-6840b14d28f2"
      },
      "execution_count": 22,
      "outputs": [
        {
          "output_type": "stream",
          "name": "stdout",
          "text": [
            "[(101, 1), (100, 1), (99, 1), (96, 1), (92, 1), (90, 1), (88, 1), (85, 1), (84, 1), (83, 1), (82, 1), (76, 1), (75, 1), (74, 1), (72, 1), (68, 1), (66, 1), (62, 1), (61, 1), (60, 1), (58, 1), (55, 1), (53, 1), (52, 1), (40, 1), (38, 1), (37, 1), (36, 1), (34, 1), (32, 1), (29, 1), (25, 1), (24, 1), (22, 1), (21, 1), (20, 1), (19, 1), (18, 1), (17, 1), (13, 1), (10, 1), (7, 1), (6, 1), (4, 1), (102, 0), (98, 0), (97, 0), (95, 0), (94, 0), (93, 0), (91, 0), (89, 0), (87, 0), (86, 0), (81, 0), (80, 0), (79, 0), (78, 0), (77, 0), (73, 0), (71, 0), (70, 0), (69, 0), (67, 0), (65, 0), (64, 0), (63, 0), (59, 0), (57, 0), (56, 0), (54, 0), (51, 0), (50, 0), (49, 0), (48, 0), (47, 0), (46, 0), (45, 0), (44, 0), (43, 0), (42, 0), (41, 0), (39, 0), (35, 0), (33, 0), (31, 0), (30, 0), (28, 0), (27, 0), (26, 0), (23, 0), (16, 0), (15, 0), (14, 0), (12, 0), (11, 0), (9, 0), (8, 0), (5, 0), (3, 0), (2, 0), (1, 0), (0, 0)]\n"
          ]
        }
      ]
    },
    {
      "cell_type": "markdown",
      "source": [
        " **Part 1**"
      ],
      "metadata": {
        "id": "NRYlaSrPtOKO"
      }
    },
    {
      "cell_type": "code",
      "source": [
        "# finding MAX DCG\n",
        "\n",
        "dcg_max = 0\n",
        "disGain = 0\n",
        "rel_score = {}\n",
        "files_all = 1\n",
        "\n",
        "#finding maximum DCG\n",
        "\n",
        "for i in range(desc_file.shape[0]):\n",
        "  rel = desc_file.iloc[i,0]\n",
        "  if(i==0):\n",
        "    dcg_max = desc_file.iloc[i,0]\n",
        "  else:\n",
        "    dcg_max = dcg_max + rel/math.log(i+1, 2)\n",
        "\n",
        "  if rel in rel_score:\n",
        "    rel_score[rel] += 1\n",
        "  else:\n",
        "    rel_score[rel] = 1\n",
        "\n",
        "  \n",
        "\n",
        "#finding DCG\n",
        "\n",
        "for i in range(file.shape[0]):\n",
        "  rel = file.iloc[i,0]\n",
        "  if(i==0):\n",
        "    disGain = file.iloc[i,0]\n",
        "  else:\n",
        "    disGain = disGain + rel / math.log(i+1, 2)\n",
        "\n",
        "\n",
        "print(f'Max DCG (MDCG) is: {dcg_max} \\n')\n",
        "print(f'DCG is: {disGain} \\n')\n",
        "\n",
        "\n",
        "for a in rel_score:\n",
        "  files_all = files_all * math.factorial(rel_score[a])\n",
        "\n",
        "print(f'Number of such files possible are: {files_all}')"
      ],
      "metadata": {
        "colab": {
          "base_uri": "https://localhost:8080/"
        },
        "id": "AAtcfnfphWAF",
        "outputId": "05377978-47eb-420f-faef-5f73f0994801"
      },
      "execution_count": 11,
      "outputs": [
        {
          "output_type": "stream",
          "name": "stdout",
          "text": [
            "Max DCG (MDCG) is: 20.989750804831445 \n",
            "\n",
            "DCG is: 12.550247459532576 \n",
            "\n",
            "Number of such files possible are: 19893497375938370599826047614905329896936840170566570588205180312704857992695193482412686565431050240000000000000000000000\n"
          ]
        }
      ]
    },
    {
      "cell_type": "markdown",
      "source": [
        "**Part 2**"
      ],
      "metadata": {
        "id": "5yx4HmlStXae"
      }
    },
    {
      "cell_type": "code",
      "source": [
        "Normalized_dcg=disGain/dcg_max\n",
        "print(f'Normalized DCG for whole dataset is: {Normalized_dcg} \\n')\n",
        "\n",
        "first50=file.iloc[:50]\n",
        "#print(first50)\n",
        "sorted50 = first50.sort_values(by=[0], ascending=False, ignore_index=True)\n",
        "#print(sorted50)\n",
        "\n",
        "\n",
        "dcg_max50 = 0\n",
        "disGain50 = 0\n",
        "\n",
        "\n",
        "#finding maximum DCG\n",
        "\n",
        "for i in range(sorted50.shape[0]):\n",
        "  r = sorted50.iloc[i,0]\n",
        "  if(i==0):\n",
        "    dcg_max50 = r\n",
        "  else:\n",
        "    dcg_max50 = dcg_max50 + r/math.log(i+1, 2)\n",
        "\n",
        "  \n",
        "\n",
        "#finding DCG\n",
        "\n",
        "for i in range(first50.shape[0]):\n",
        "  r = first50.iloc[i,0]\n",
        "  if(i==0):\n",
        "    disGain50 = r\n",
        "  else:\n",
        "    disGain50 = disGain50 + r / math.log(i+1, 2)\n",
        "\n",
        "top50=disGain50/dcg_max50\n",
        "print(f'NDCG for first 50 entries is: {top50} \\n')"
      ],
      "metadata": {
        "colab": {
          "base_uri": "https://localhost:8080/"
        },
        "id": "O9iLRxmGtaQj",
        "outputId": "60c2edd9-28a7-4d4e-dfe8-6aabb5a10d16"
      },
      "execution_count": 13,
      "outputs": [
        {
          "output_type": "stream",
          "name": "stdout",
          "text": [
            "Normalized DCG for whole dataset is: 0.5979226516897831 \n",
            "\n",
            "NDCG for first 50 entries is: 0.5253808413557646 \n",
            "\n"
          ]
        }
      ]
    },
    {
      "cell_type": "markdown",
      "source": [
        "**Part 3**"
      ],
      "metadata": {
        "id": "OhWMzHJ__LNO"
      }
    },
    {
      "cell_type": "code",
      "source": [
        "#select the relevance entry column\n",
        "rel_score1=file.iloc[:,0]\n",
        "#print(rel_array)\n",
        "\n",
        "#Taking the 75 th feature\n",
        "th75feature=file.iloc[:,76]\n",
        "#print(feature_75)\n",
        "\n",
        "#counting all with relevant >=1 and assigning 1 all >=1 in rel_score1\n",
        "all_relevant=0\n",
        "for k in range(len(rel_score1)):\n",
        "  if(rel_score1[k]>=1):\n",
        "    all_relevant=all_relevant+1\n",
        "    rel_score1[k]=1\n",
        "\n",
        "key_value = dict(zip(th75feature, rel_score1))\n",
        "sorted_key_value=sorted(key_value.items(),reverse=True)\n",
        "\n",
        "\n",
        "\n",
        "\n",
        "\n"
      ],
      "metadata": {
        "id": "4N2bZMIjDh_P"
      },
      "execution_count": 14,
      "outputs": []
    },
    {
      "cell_type": "code",
      "source": [
        "data_precision=[]\n",
        "data_recall=[]\n",
        "rel_temporary=0\n",
        "total=0\n",
        "for q,r in sorted_key_value:\n",
        "  total=total+1\n",
        "  if(r==1):\n",
        "    rel_temporary=rel_temporary+1\n",
        "  x=rel_temporary/total\n",
        "  y=rel_temporary/all_relevant\n",
        "  data_precision.append(x)\n",
        "  data_recall.append(y)\n"
      ],
      "metadata": {
        "id": "VZORT8AKM7RQ"
      },
      "execution_count": 16,
      "outputs": []
    },
    {
      "cell_type": "code",
      "source": [
        "plt.figure(figsize=(9,7))\n",
        "plt.plot(data_recall,data_precision)\n",
        "plt.xlabel('Recall ')\n",
        "plt.ylabel('Precision ')\n",
        "plt.title('Precison-Recall Graph')"
      ],
      "metadata": {
        "colab": {
          "base_uri": "https://localhost:8080/",
          "height": 475
        },
        "id": "YzIQ4AMWP-LT",
        "outputId": "9c5b9154-11d6-466f-a687-7a5b9be1f64a"
      },
      "execution_count": 17,
      "outputs": [
        {
          "output_type": "execute_result",
          "data": {
            "text/plain": [
              "Text(0.5, 1.0, 'Precison-Recall Graph')"
            ]
          },
          "metadata": {},
          "execution_count": 17
        },
        {
          "output_type": "display_data",
          "data": {
            "text/plain": [
              "<Figure size 648x504 with 1 Axes>"
            ],
            "image/png": "[encoded data removed]"
          },
          "metadata": {
            "needs_background": "light"
          }
        }
      ]
    }
  ]
}