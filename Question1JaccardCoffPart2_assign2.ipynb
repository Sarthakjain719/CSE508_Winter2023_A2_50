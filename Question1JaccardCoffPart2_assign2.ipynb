{
  "nbformat": 4,
  "nbformat_minor": 0,
  "metadata": {
    "colab": {
      "provenance": []
    },
    "kernelspec": {
      "name": "python3",
      "display_name": "Python 3"
    },
    "language_info": {
      "name": "python"
    }
  },
  "cells": [
    {
      "cell_type": "code",
      "execution_count": 3,
      "metadata": {
        "id": "kYag2lYMklXH"
      },
      "outputs": [],
      "source": [
        "import os\n",
        "os.chdir(\"/content/drive/MyDrive/CSE508_Winter2023_Dataset\")\n",
        "path=\"/content/drive/MyDrive/CSE508_Winter2023_Dataset\""
      ]
    },
    {
      "cell_type": "code",
      "source": [
        "from google.colab import drive\n",
        "drive.mount('/content/drive')"
      ],
      "metadata": {
        "colab": {
          "base_uri": "https://localhost:8080/"
        },
        "id": "SeZJL8oY5cev",
        "outputId": "851e5ecd-5a5b-4993-da5a-e599bcf7103a"
      },
      "execution_count": 2,
      "outputs": [
        {
          "output_type": "stream",
          "name": "stdout",
          "text": [
            "Mounted at /content/drive\n"
          ]
        }
      ]
    },
    {
      "cell_type": "code",
      "source": [
        "import os\n",
        "\n",
        "folder_path = path\n",
        "\n",
        "# get a list of all the files in the folder\n",
        "files = [f for f in os.listdir(folder_path) if os.path.isfile(os.path.join(folder_path, f))]\n",
        "\n",
        "\n",
        "concatenated_text = \"\"\n",
        "\n",
        "for file in files:\n",
        "    with open(os.path.join(folder_path, file), \"r\", encoding=\"ISO-8859-1\") as f:\n",
        "        text = f.read()\n",
        "        sub1=\"<TITLE>\"\n",
        "        sub2=\"</TITLE>\"\n",
        "        sub3=\"<TEXT>\"\n",
        "        sub4=\"</TEXT>\"\n",
        "        idx1=text.find(sub1) +len(sub1)\n",
        "        idx2=text.find(sub2)\n",
        "        idx3=text.find(sub3) +len(sub2)\n",
        "        idx4=text.find(sub4)\n",
        "        title=text[idx1:idx2]\n",
        "        txt=text[idx3:idx4]\n",
        "        concatenated_text=title+\" \"+txt\n",
        "        file_name = os.path.basename(file)\n",
        "        text=text.replace(text,concatenated_text)\n",
        "    with open(file,\"w\") as f:\n",
        "          f.write(text)   "
      ],
      "metadata": {
        "id": "baP4DDHIpknW"
      },
      "execution_count": 4,
      "outputs": []
    },
    {
      "cell_type": "code",
      "source": [
        "#for lowercase the text\n",
        "\n",
        "for file in files:\n",
        "    with open(os.path.join(folder_path, file), \"r\") as f:\n",
        "      text=f.read()\n",
        "      lower_text = text.lower()\n",
        "    with open(file,\"w\") as f:\n",
        "          f.write(lower_text)"
      ],
      "metadata": {
        "id": "XQWCgenaQK1T"
      },
      "execution_count": 5,
      "outputs": []
    },
    {
      "cell_type": "code",
      "source": [
        "for file in files:\n",
        "    with open(os.path.join(folder_path, file), \"r\") as f :\n",
        "      text=f.read()\n",
        "      tokens = text.split()\n",
        "      text=\"\"\n",
        "\n",
        "    for r in tokens:\n",
        "      text+=r+\" \" \n",
        "    with open(file,\"w\") as f:\n",
        "      f.write(text)"
      ],
      "metadata": {
        "id": "KTg-FVEhQSpb"
      },
      "execution_count": 6,
      "outputs": []
    },
    {
      "cell_type": "code",
      "source": [
        "import nltk\n",
        "nltk.download('stopwords')\n",
        "from nltk.corpus import stopwords\n",
        "stop_words = set(stopwords.words(\"english\"))\n",
        "for file in files:\n",
        "    with open(os.path.join(folder_path, file), \"r\") as f:\n",
        "      text=f.read()\n",
        "      tokens=text.split()\n",
        "      filtered_tokens = [token for token in tokens if token.lower() not in stop_words]\n",
        "      text=\" \"\n",
        "      \n",
        "    for r in filtered_tokens:\n",
        "      text+=r+\" \" \n",
        "    with open(file,\"w\") as f:\n",
        "      f.write(text) \n",
        "       \n"
      ],
      "metadata": {
        "colab": {
          "base_uri": "https://localhost:8080/"
        },
        "id": "_LRbv6jEQcwz",
        "outputId": "4298e805-4b5b-4f0b-f993-48d5f95d2410"
      },
      "execution_count": 7,
      "outputs": [
        {
          "output_type": "stream",
          "name": "stderr",
          "text": [
            "[nltk_data] Downloading package stopwords to /root/nltk_data...\n",
            "[nltk_data]   Unzipping corpora/stopwords.zip.\n"
          ]
        }
      ]
    },
    {
      "cell_type": "code",
      "source": [
        "punc = '''!()-[]{};:'\"\\,<>./?@#$%^&*_~'''\n",
        "for file in files:\n",
        "    with open(os.path.join(folder_path, file), \"r\", encoding=\"ISO-8859-1\") as f:\n",
        "      text=f.read()\n",
        "      for ele in text:\n",
        "       if ele in punc:\n",
        "        text = text.replace(ele, \"\")\n",
        "    with open(file,\"w\") as f:\n",
        "          f.write(text)   "
      ],
      "metadata": {
        "id": "IclxW8GbRo4m"
      },
      "execution_count": 8,
      "outputs": []
    },
    {
      "cell_type": "code",
      "source": [
        "#remove blank space token\n",
        "for file in files:\n",
        "    with open(os.path.join(folder_path, file), \"r\") as f:\n",
        "      text=f.read()\n",
        "      tokens=text.split()\n",
        "      filtered_tokens = [token for token in tokens if token.strip()]\n",
        "      filtered_text = \" \".join(filtered_tokens)\n",
        "      text=\"\"\n",
        "\n",
        "    for r in filtered_tokens:\n",
        "      text+=r+\" \" \n",
        "    with open(file,\"w\") as f:\n",
        "      f.write(text)\n"
      ],
      "metadata": {
        "id": "0gzLGIn7Sj37"
      },
      "execution_count": 9,
      "outputs": []
    },
    {
      "cell_type": "code",
      "source": [
        "# Creating a dictionary which contains all file names and their respective contents.\n",
        "dictionary={'fileid':[],'data':[]}\n",
        "for file in files:\n",
        "    dictionary['fileid'].append(file)\n",
        "    with open(os.path.join(folder_path, file), \"r\") as f:\n",
        "      text=f.read()\n",
        "      dictionary['data'].append(text)\n",
        "     "
      ],
      "metadata": {
        "id": "7zSZQnpNVgtb"
      },
      "execution_count": 10,
      "outputs": []
    },
    {
      "cell_type": "code",
      "source": [
        "import pandas as pd\n",
        "dictionary=pd.DataFrame(dictionary)\n",
        "print(dictionary.head(2))"
      ],
      "metadata": {
        "colab": {
          "base_uri": "https://localhost:8080/"
        },
        "id": "8KvNoqONXH_z",
        "outputId": "7bb8f5d1-e281-49a7-e739-52708c545d7f"
      },
      "execution_count": 11,
      "outputs": [
        {
          "output_type": "stream",
          "name": "stdout",
          "text": [
            "          fileid                                               data\n",
            "0  cranfield0020  lisednewtonian theory author generalizes leess...\n",
            "1  cranfield0029  model study transient temperature thermal stre...\n"
          ]
        }
      ]
    },
    {
      "cell_type": "code",
      "source": [
        "import nltk\n",
        "nltk.download('punkt')\n"
      ],
      "metadata": {
        "id": "50I2wM6s150O",
        "colab": {
          "base_uri": "https://localhost:8080/"
        },
        "outputId": "16babda2-376b-4b7a-c207-a7fb5039df62"
      },
      "execution_count": 12,
      "outputs": [
        {
          "output_type": "stream",
          "name": "stderr",
          "text": [
            "[nltk_data] Downloading package punkt to /root/nltk_data...\n",
            "[nltk_data]   Unzipping tokenizers/punkt.zip.\n"
          ]
        },
        {
          "output_type": "execute_result",
          "data": {
            "text/plain": [
              "True"
            ]
          },
          "metadata": {},
          "execution_count": 12
        }
      ]
    },
    {
      "cell_type": "code",
      "source": [
        "def tt(text):\n",
        "    return nltk.word_tokenize(text)"
      ],
      "metadata": {
        "id": "m-HRMMbh23g0"
      },
      "execution_count": 13,
      "outputs": []
    },
    {
      "cell_type": "code",
      "source": [
        "dictionary['data_tokenize'] = [tt(text) for text in dictionary['data']]"
      ],
      "metadata": {
        "id": "OyEFMjzb5vbc"
      },
      "execution_count": 14,
      "outputs": []
    },
    {
      "cell_type": "code",
      "source": [
        "print(dictionary)"
      ],
      "metadata": {
        "colab": {
          "base_uri": "https://localhost:8080/"
        },
        "id": "gGC2vZ7MHiAF",
        "outputId": "34ca3508-a375-41c1-bece-9cb509be65be"
      },
      "execution_count": 15,
      "outputs": [
        {
          "output_type": "stream",
          "name": "stdout",
          "text": [
            "             fileid                                               data  \\\n",
            "0     cranfield0020  lisednewtonian theory author generalizes leess...   \n",
            "1     cranfield0029  model study transient temperature thermal stre...   \n",
            "2     cranfield0212  tunnel tests rotor blade supersonic turbines s...   \n",
            "3     cranfield0682  wisted cambered wings supersonic flow generali...   \n",
            "4     cranfield0224  ylindrical surfaces prescribed loadings linear...   \n",
            "...             ...                                                ...   \n",
            "1395  cranfield0443  ated measured pressure distributions midspan s...   \n",
            "1396  cranfield0640  structures resist jet noise fatigue design str...   \n",
            "1397  cranfield0475  ty distribution laminar boundary layer paralle...   \n",
            "1398  cranfield0824  stability inelastic systems simple models empl...   \n",
            "1399  cranfield1108  secondorder supersonic flow theory attempt mad...   \n",
            "\n",
            "                                          data_tokenize  \n",
            "0     [lisednewtonian, theory, author, generalizes, ...  \n",
            "1     [model, study, transient, temperature, thermal...  \n",
            "2     [tunnel, tests, rotor, blade, supersonic, turb...  \n",
            "3     [wisted, cambered, wings, supersonic, flow, ge...  \n",
            "4     [ylindrical, surfaces, prescribed, loadings, l...  \n",
            "...                                                 ...  \n",
            "1395  [ated, measured, pressure, distributions, mids...  \n",
            "1396  [structures, resist, jet, noise, fatigue, desi...  \n",
            "1397  [ty, distribution, laminar, boundary, layer, p...  \n",
            "1398  [stability, inelastic, systems, simple, models...  \n",
            "1399  [secondorder, supersonic, flow, theory, attemp...  \n",
            "\n",
            "[1400 rows x 3 columns]\n"
          ]
        }
      ]
    },
    {
      "cell_type": "code",
      "source": [
        "import re"
      ],
      "metadata": {
        "id": "1b735u71QSVn"
      },
      "execution_count": 16,
      "outputs": []
    },
    {
      "cell_type": "code",
      "source": [
        "def askquery():\n",
        "  value=input('Enter Query')\n",
        "  loweredvalue=value.lower()\n",
        "  answer = re.sub('[^a-zA-Z0-9]', ' ', loweredvalue)\n",
        "  \n",
        "  define= stopwords.words('english')\n",
        " \n",
        "  token=answer.split()\n",
        "  tokens = [word for word in token if not word in define]\n",
        "  \n",
        "  return tokens"
      ],
      "metadata": {
        "id": "j_7dPZ0JM570"
      },
      "execution_count": 21,
      "outputs": []
    },
    {
      "cell_type": "code",
      "source": [
        "try:\n",
        "  \n",
        "  ask=askquery()\n",
        "  ask=set(ask)\n",
        "  ten_top_jacc={}\n",
        "  for i in range(dictionary.shape[0]):\n",
        "    doc_tokens=set(dictionary.iloc[i,2])\n",
        "    intersect_qd=ask.intersection(doc_tokens)\n",
        "    union_qd=ask.union(doc_tokens)\n",
        "    coeff=len( intersect_qd)/len( union_qd)\n",
        "    ten_top_jacc[coeff]=dictionary.iloc[i,0]                 #key =coff value=file_name\n",
        "  dic_sorted=sorted( ten_top_jacc.items(),reverse=True)\n",
        "  print(\"The top 10 documents According to Jaccard Coefficient are:\\n \")\n",
        "  count=0\n",
        "  for key,value in dic_sorted:\n",
        "    if(count<10):\n",
        "     print(f' Jaccard Coefficient {value} : {key}')\n",
        "     count=count+1\n",
        "except:\n",
        "  print('No Answer Possible')  \n",
        "\n",
        "\n",
        "  "
      ],
      "metadata": {
        "colab": {
          "base_uri": "https://localhost:8080/"
        },
        "id": "KJywrjczTxyz",
        "outputId": "3c4b9181-535c-4438-825a-c4961643342a"
      },
      "execution_count": 26,
      "outputs": [
        {
          "output_type": "stream",
          "name": "stdout",
          "text": [
            "Enter Querywisted cambered wings supersonic flow \n",
            "The top 10 documents According to Jaccard Coefficient are:\n",
            " \n",
            " Jaccard Coefficient cranfield0774 : 0.07692307692307693\n",
            " Jaccard Coefficient cranfield0920 : 0.07142857142857142\n",
            " Jaccard Coefficient cranfield0633 : 0.06976744186046512\n",
            " Jaccard Coefficient cranfield0791 : 0.06818181818181818\n",
            " Jaccard Coefficient cranfield1306 : 0.06666666666666667\n",
            " Jaccard Coefficient cranfield0682 : 0.06329113924050633\n",
            " Jaccard Coefficient cranfield0430 : 0.0625\n",
            " Jaccard Coefficient cranfield0313 : 0.06060606060606061\n",
            " Jaccard Coefficient cranfield1272 : 0.06\n",
            " Jaccard Coefficient cranfield0175 : 0.058823529411764705\n"
          ]
        }
      ]
    },
    {
      "cell_type": "code",
      "source": [],
      "metadata": {
        "id": "VkRvZGugg42e"
      },
      "execution_count": null,
      "outputs": []
    }
  ]
}